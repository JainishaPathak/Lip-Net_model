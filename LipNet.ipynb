{
  "cells": [
    {
      "cell_type": "markdown",
      "metadata": {
        "id": "a3573a47-3689-4668-b62f-5c8451b2b4e9"
      },
      "source": [
        "# 0. Install and Import Dependencies"
      ],
      "id": "a3573a47-3689-4668-b62f-5c8451b2b4e9"
    },
    {
      "cell_type": "code",
      "execution_count": null,
      "metadata": {
        "id": "ddfbccbe-41ae-4c23-98b1-a13868e2b499",
        "scrolled": true
      },
      "outputs": [],
      "source": [
        "!pip list"
      ],
      "id": "ddfbccbe-41ae-4c23-98b1-a13868e2b499"
    },
    {
      "cell_type": "code",
      "execution_count": null,
      "metadata": {
        "id": "02f907ea-f669-46c7-adcf-7f257e663448"
      },
      "outputs": [],
      "source": [
        "!pip install opencv-python matplotlib imageio gdown tensorflow"
      ],
      "id": "02f907ea-f669-46c7-adcf-7f257e663448"
    },
    {
      "cell_type": "code",
      "execution_count": null,
      "metadata": {
        "id": "b24af50c-20b8-409d-ad78-30a933fdd669"
      },
      "outputs": [],
      "source": [
        "import os\n",
        "import cv2\n",
        "import tensorflow as tf\n",
        "import numpy as np\n",
        "from typing import List\n",
        "from matplotlib import pyplot as plt\n",
        "import imageio"
      ],
      "id": "b24af50c-20b8-409d-ad78-30a933fdd669"
    },
    {
      "cell_type": "code",
      "execution_count": null,
      "metadata": {
        "id": "1e3db0b0-e559-4ad6-91fd-e7414b7d75e6",
        "colab": {
          "base_uri": "https://localhost:8080/"
        },
        "outputId": "7307b37c-f406-480e-baa9-b34433e1828c"
      },
      "outputs": [
        {
          "output_type": "execute_result",
          "data": {
            "text/plain": [
              "[]"
            ]
          },
          "metadata": {},
          "execution_count": 5
        }
      ],
      "source": [
        "tf.config.list_physical_devices('GPU')"
      ],
      "id": "1e3db0b0-e559-4ad6-91fd-e7414b7d75e6"
    },
    {
      "cell_type": "code",
      "execution_count": null,
      "metadata": {
        "id": "378d045a-3003-4f93-b7d2-a25a97774a68"
      },
      "outputs": [],
      "source": [
        "\n",
        "physical_devices = tf.config.list_physical_devices('GPU')\n",
        "try:\n",
        "    tf.config.experimental.set_memory_growth(physical_devices[0], True)\n",
        "except:\n",
        "    pass"
      ],
      "id": "378d045a-3003-4f93-b7d2-a25a97774a68"
    },
    {
      "cell_type": "markdown",
      "metadata": {
        "id": "7a19e88e-c7b9-45c1-ae1e-f2109329c71b"
      },
      "source": [
        "# 1. Build Data Loading Functions"
      ],
      "id": "7a19e88e-c7b9-45c1-ae1e-f2109329c71b"
    },
    {
      "cell_type": "code",
      "execution_count": null,
      "metadata": {
        "id": "8fb99c90-e05a-437f-839d-6e772f8c1dd5"
      },
      "outputs": [],
      "source": [
        "\n",
        "import gdown"
      ],
      "id": "8fb99c90-e05a-437f-839d-6e772f8c1dd5"
    },
    {
      "cell_type": "code",
      "execution_count": null,
      "metadata": {
        "id": "c019e4c6-2af3-4160-99ea-5c8cb009f1a7"
      },
      "outputs": [],
      "source": [
        "\n",
        "url = 'https://drive.google.com/uc?id=1YlvpDLix3S-U8fd-gqRwPcWXAXm8JwjL'\n",
        "output = 'data.zip'\n",
        "gdown.download(url, output, quiet=False)\n",
        "gdown.extractall('data.zip')"
      ],
      "id": "c019e4c6-2af3-4160-99ea-5c8cb009f1a7"
    },
    {
      "cell_type": "code",
      "execution_count": null,
      "metadata": {
        "id": "8548cc59-6dfc-4acc-abc3-3e65212db02e"
      },
      "outputs": [],
      "source": [
        "\n",
        "def load_video(path:str) -> List[float]:\n",
        "\n",
        "    cap = cv2.VideoCapture(path)\n",
        "    frames = []\n",
        "    for _ in range(int(cap.get(cv2.CAP_PROP_FRAME_COUNT))):\n",
        "        ret, frame = cap.read()\n",
        "        frame = tf.image.rgb_to_grayscale(frame)\n",
        "        frames.append(frame[190:236,80:220,:])\n",
        "    cap.release()\n",
        "\n",
        "    mean = tf.math.reduce_mean(frames)\n",
        "    std = tf.math.reduce_std(tf.cast(frames, tf.float32))\n",
        "    return tf.cast((frames - mean), tf.float32) / std"
      ],
      "id": "8548cc59-6dfc-4acc-abc3-3e65212db02e"
    },
    {
      "cell_type": "code",
      "execution_count": null,
      "metadata": {
        "id": "ec735e0b-ec98-4eb0-8f49-c35527d6670a"
      },
      "outputs": [],
      "source": [
        "\n",
        "vocab = [x for x in \"abcdefghijklmnopqrstuvwxyz'?!123456789 \"]"
      ],
      "id": "ec735e0b-ec98-4eb0-8f49-c35527d6670a"
    },
    {
      "cell_type": "code",
      "execution_count": null,
      "metadata": {
        "id": "be04e972-d7a5-4a72-82d8-a6bdde1f3ce6",
        "colab": {
          "base_uri": "https://localhost:8080/"
        },
        "outputId": "6384f840-1051-4b4f-bb6c-63d64d6000c4"
      },
      "outputs": [
        {
          "output_type": "stream",
          "name": "stdout",
          "text": [
            "The vocabulary is: ['', 'a', 'b', 'c', 'd', 'e', 'f', 'g', 'h', 'i', 'j', 'k', 'l', 'm', 'n', 'o', 'p', 'q', 'r', 's', 't', 'u', 'v', 'w', 'x', 'y', 'z', \"'\", '?', '!', '1', '2', '3', '4', '5', '6', '7', '8', '9', ' '] (size =40)\n"
          ]
        }
      ],
      "source": [
        "\n",
        "char_to_num = tf.keras.layers.StringLookup(vocabulary=vocab, oov_token=\"\")\n",
        "num_to_char = tf.keras.layers.StringLookup(\n",
        "    vocabulary=char_to_num.get_vocabulary(), oov_token=\"\", invert=True\n",
        ")\n",
        "\n",
        "print(\n",
        "    f\"The vocabulary is: {char_to_num.get_vocabulary()} \"\n",
        "    f\"(size ={char_to_num.vocabulary_size()})\"\n",
        ")"
      ],
      "id": "be04e972-d7a5-4a72-82d8-a6bdde1f3ce6"
    },
    {
      "cell_type": "code",
      "execution_count": null,
      "metadata": {
        "id": "559f7420-6802-45fa-9ca0-b1ff209b461c"
      },
      "outputs": [],
      "source": [
        "\n",
        "char_to_num.get_vocabulary()"
      ],
      "id": "559f7420-6802-45fa-9ca0-b1ff209b461c"
    },
    {
      "cell_type": "code",
      "execution_count": null,
      "metadata": {
        "id": "797ff78b-b48f-4e14-bb62-8cd0ebf9501a",
        "colab": {
          "base_uri": "https://localhost:8080/"
        },
        "outputId": "501a5d13-4c9a-4b06-bfbd-b36e136146b8"
      },
      "outputs": [
        {
          "output_type": "execute_result",
          "data": {
            "text/plain": [
              "<tf.Tensor: shape=(4,), dtype=int64, numpy=array([14,  9,  3, 11])>"
            ]
          },
          "metadata": {},
          "execution_count": 20
        }
      ],
      "source": [
        "\n",
        "char_to_num(['n','i','c','k'])"
      ],
      "id": "797ff78b-b48f-4e14-bb62-8cd0ebf9501a"
    },
    {
      "cell_type": "code",
      "execution_count": null,
      "metadata": {
        "id": "8cd7f4f4-ae77-4509-a4f4-c723787ebad1",
        "colab": {
          "base_uri": "https://localhost:8080/"
        },
        "outputId": "e8ce3873-a778-40ed-dd42-5499d63dae6f"
      },
      "outputs": [
        {
          "output_type": "execute_result",
          "data": {
            "text/plain": [
              "<tf.Tensor: shape=(4,), dtype=string, numpy=array([b'n', b'i', b'c', b'k'], dtype=object)>"
            ]
          },
          "metadata": {},
          "execution_count": 21
        }
      ],
      "source": [
        "\n",
        "num_to_char([14,  9,  3, 11])"
      ],
      "id": "8cd7f4f4-ae77-4509-a4f4-c723787ebad1"
    },
    {
      "cell_type": "code",
      "execution_count": null,
      "metadata": {
        "id": "9491bab5-6a3c-4f79-879a-8f9fbe73ae2e"
      },
      "outputs": [],
      "source": [
        "def load_alignments(path:str) -> List[str]:\n",
        "    with open(path, 'r') as f:\n",
        "        lines = f.readlines()\n",
        "    tokens = []\n",
        "    for line in lines:\n",
        "        line = line.split()\n",
        "        if line[2] != 'sil':\n",
        "            tokens = [*tokens,' ',line[2]]\n",
        "    return char_to_num(tf.reshape(tf.strings.unicode_split(tokens, input_encoding='UTF-8'), (-1)))[1:]"
      ],
      "id": "9491bab5-6a3c-4f79-879a-8f9fbe73ae2e"
    },
    {
      "cell_type": "code",
      "execution_count": null,
      "metadata": {
        "id": "dd01ca9f-77fb-4643-a2aa-47dd82c5d66b"
      },
      "outputs": [],
      "source": [
        "\n",
        "def load_data(path: str):\n",
        "    path = bytes.decode(path.numpy())\n",
        "    file_name = path.split('/')[-1].split('.')[0]\n",
        "    # File name splitting for windows\n",
        "    # file_name = path.split('\\\\')[-1].split('.')[0]\n",
        "    video_path = os.path.join('data','s1',f'{file_name}.mpg')\n",
        "    alignment_path = os.path.join('data','alignments','s1',f'{file_name}.align')\n",
        "    frames = load_video(video_path)\n",
        "    alignments = load_alignments(alignment_path)\n",
        "\n",
        "    return frames, alignments"
      ],
      "id": "dd01ca9f-77fb-4643-a2aa-47dd82c5d66b"
    },
    {
      "cell_type": "code",
      "execution_count": null,
      "metadata": {
        "id": "8cb7cc58-31ae-4904-a805-1177a82717d2"
      },
      "outputs": [],
      "source": [
        "\n",
        "test_path = './data/s1/bbal6n.mpg'"
      ],
      "id": "8cb7cc58-31ae-4904-a805-1177a82717d2"
    },
    {
      "cell_type": "code",
      "execution_count": null,
      "metadata": {
        "id": "76aa964f-0c84-490d-897a-d00e3966e2c9",
        "colab": {
          "base_uri": "https://localhost:8080/",
          "height": 35
        },
        "outputId": "6e3ec987-8316-4f47-aa3a-b308126f9431"
      },
      "outputs": [
        {
          "output_type": "execute_result",
          "data": {
            "text/plain": [
              "'bbal6n'"
            ],
            "application/vnd.google.colaboratory.intrinsic+json": {
              "type": "string"
            }
          },
          "metadata": {},
          "execution_count": 25
        }
      ],
      "source": [
        "tf.convert_to_tensor(test_path).numpy().decode('utf-8').split('/')[-1].split('.')[0]\n"
      ],
      "id": "76aa964f-0c84-490d-897a-d00e3966e2c9"
    },
    {
      "cell_type": "code",
      "execution_count": null,
      "metadata": {
        "id": "eb602c71-8560-4f9e-b26b-08202febb937",
        "scrolled": true
      },
      "outputs": [],
      "source": [
        "\n",
        "frames, alignments = load_data(tf.convert_to_tensor(test_path))"
      ],
      "id": "eb602c71-8560-4f9e-b26b-08202febb937"
    },
    {
      "cell_type": "code",
      "execution_count": null,
      "metadata": {
        "id": "0e3184a1-6b02-4b4f-84a8-a0a65f951ea2",
        "colab": {
          "base_uri": "https://localhost:8080/",
          "height": 244
        },
        "outputId": "4ae5691c-38b3-47d6-d963-8f615de570fb"
      },
      "outputs": [
        {
          "output_type": "execute_result",
          "data": {
            "text/plain": [
              "<matplotlib.image.AxesImage at 0x7c2b99369ed0>"
            ]
          },
          "metadata": {},
          "execution_count": 27
        },
        {
          "output_type": "display_data",
          "data": {
            "text/plain": [
              "<Figure size 640x480 with 1 Axes>"
            ],
            "image/png": "[encoded data removed]"
          },
          "metadata": {}
        }
      ],
      "source": [
        "plt.imshow(frames[45])"
      ],
      "id": "0e3184a1-6b02-4b4f-84a8-a0a65f951ea2"
    },
    {
      "cell_type": "code",
      "execution_count": null,
      "metadata": {
        "id": "d7ec0833-d54b-4073-84cf-92d011c60ec1",
        "colab": {
          "base_uri": "https://localhost:8080/"
        },
        "outputId": "90c74964-cea3-48c5-96e2-1a25ca904875"
      },
      "outputs": [
        {
          "output_type": "execute_result",
          "data": {
            "text/plain": [
              "<tf.Tensor: shape=(21,), dtype=int64, numpy=\n",
              "array([ 2,  9, 14, 39,  2, 12, 21,  5, 39,  1, 20, 39, 12, 39, 19,  9, 24,\n",
              "       39, 14, 15, 23])>"
            ]
          },
          "metadata": {},
          "execution_count": 28
        }
      ],
      "source": [
        "alignments"
      ],
      "id": "d7ec0833-d54b-4073-84cf-92d011c60ec1"
    },
    {
      "cell_type": "code",
      "execution_count": null,
      "metadata": {
        "id": "fe1ad370-b287-4b46-85a2-7c45b0bd9b10",
        "colab": {
          "base_uri": "https://localhost:8080/"
        },
        "outputId": "67b7292f-2ff3-4b6d-d282-6efea1bc573f"
      },
      "outputs": [
        {
          "output_type": "execute_result",
          "data": {
            "text/plain": [
              "<tf.Tensor: shape=(), dtype=string, numpy=b'bin blue at l six now'>"
            ]
          },
          "metadata": {},
          "execution_count": 29
        }
      ],
      "source": [
        "tf.strings.reduce_join([bytes.decode(x) for x in num_to_char(alignments.numpy()).numpy()])"
      ],
      "id": "fe1ad370-b287-4b46-85a2-7c45b0bd9b10"
    },
    {
      "cell_type": "code",
      "execution_count": null,
      "metadata": {
        "id": "6871031a-b0ba-4c76-a852-f6329b0f2606"
      },
      "outputs": [],
      "source": [
        "def mappable_function(path:str) ->List[str]:\n",
        "    result = tf.py_function(load_data, [path], (tf.float32, tf.int64))\n",
        "    return result"
      ],
      "id": "6871031a-b0ba-4c76-a852-f6329b0f2606"
    },
    {
      "cell_type": "markdown",
      "metadata": {
        "id": "c40a7eb4-0c3e-4eab-9291-5611cb68ce08"
      },
      "source": [
        "# 2. Create Data Pipeline"
      ],
      "id": "c40a7eb4-0c3e-4eab-9291-5611cb68ce08"
    },
    {
      "cell_type": "code",
      "execution_count": null,
      "metadata": {
        "id": "7686355d-45aa-4c85-ad9c-053e6a9b4d81"
      },
      "outputs": [],
      "source": [
        "from matplotlib import pyplot as plt"
      ],
      "id": "7686355d-45aa-4c85-ad9c-053e6a9b4d81"
    },
    {
      "cell_type": "code",
      "execution_count": null,
      "metadata": {
        "id": "f066fea2-91b1-42ed-a67d-00566a1a53ff"
      },
      "outputs": [],
      "source": [
        "data = tf.data.Dataset.list_files('./data/s1/*.mpg')\n",
        "data = data.shuffle(500, reshuffle_each_iteration=False)\n",
        "data = data.map(mappable_function)\n",
        "data = data.padded_batch(2, padded_shapes=([75,None,None,None],[40]))\n",
        "data = data.prefetch(tf.data.AUTOTUNE)\n",
        "# Added for split\n",
        "train = data.take(450)\n",
        "test = data.skip(450)"
      ],
      "id": "f066fea2-91b1-42ed-a67d-00566a1a53ff"
    },
    {
      "cell_type": "code",
      "execution_count": null,
      "metadata": {
        "id": "6b1365bd-7742-41d1-95d4-247021751c3a",
        "colab": {
          "base_uri": "https://localhost:8080/"
        },
        "outputId": "32b2432f-b894-48bd-f1a5-e48e3a1e1e2b"
      },
      "outputs": [
        {
          "output_type": "execute_result",
          "data": {
            "text/plain": [
              "50"
            ]
          },
          "metadata": {},
          "execution_count": 33
        }
      ],
      "source": [
        "len(test)"
      ],
      "id": "6b1365bd-7742-41d1-95d4-247021751c3a"
    },
    {
      "cell_type": "code",
      "execution_count": null,
      "metadata": {
        "id": "5281bde8-fdc8-4da1-bd55-5a7929a9e80c"
      },
      "outputs": [],
      "source": [
        "frames, alignments = data.as_numpy_iterator().next()"
      ],
      "id": "5281bde8-fdc8-4da1-bd55-5a7929a9e80c"
    },
    {
      "cell_type": "code",
      "execution_count": null,
      "metadata": {
        "id": "cbebe683-6afd-47fd-bba4-c83b4b13bb32"
      },
      "outputs": [],
      "source": [
        "len(frames)"
      ],
      "id": "cbebe683-6afd-47fd-bba4-c83b4b13bb32"
    },
    {
      "cell_type": "code",
      "execution_count": null,
      "metadata": {
        "id": "5cf2d676-93a9-434c-b3c7-bdcc2577b2e7"
      },
      "outputs": [],
      "source": [
        "sample = data.as_numpy_iterator()"
      ],
      "id": "5cf2d676-93a9-434c-b3c7-bdcc2577b2e7"
    },
    {
      "cell_type": "code",
      "execution_count": null,
      "metadata": {
        "id": "efa6cd46-7079-46c0-b45b-832f339f6cb0",
        "scrolled": true
      },
      "outputs": [],
      "source": [
        "val = sample.next(); val[0]"
      ],
      "id": "efa6cd46-7079-46c0-b45b-832f339f6cb0"
    },
    {
      "cell_type": "code",
      "execution_count": null,
      "metadata": {
        "id": "acf5eb4f-a0da-4a9a-bf24-af13e9cc2fbe"
      },
      "outputs": [],
      "source": [
        "imageio.mimsave('./animation.gif', val[0][0], fps=10)"
      ],
      "id": "acf5eb4f-a0da-4a9a-bf24-af13e9cc2fbe"
    },
    {
      "cell_type": "code",
      "execution_count": null,
      "metadata": {
        "id": "c33a87a2-d5e0-4ec9-b174-73ebf41bf03a"
      },
      "outputs": [],
      "source": [
        "# 0:videos, 0: 1st video out of the batch,  0: return the first frame in the video\n",
        "plt.imshow(val[0][1][35])"
      ],
      "id": "c33a87a2-d5e0-4ec9-b174-73ebf41bf03a"
    },
    {
      "cell_type": "code",
      "execution_count": null,
      "metadata": {
        "id": "84593332-133c-4205-b7a6-8e235d5e2b3b",
        "colab": {
          "base_uri": "https://localhost:8080/"
        },
        "outputId": "2f34c2a5-9afb-41e6-9363-5997ae9177c6"
      },
      "outputs": [
        {
          "output_type": "execute_result",
          "data": {
            "text/plain": [
              "<tf.Tensor: shape=(), dtype=string, numpy=b'place white in p eight please'>"
            ]
          },
          "metadata": {},
          "execution_count": 40
        }
      ],
      "source": [
        "tf.strings.reduce_join([num_to_char(word) for word in val[1][0]])"
      ],
      "id": "84593332-133c-4205-b7a6-8e235d5e2b3b"
    },
    {
      "cell_type": "markdown",
      "metadata": {
        "id": "0f47733c-83bc-465c-b118-b198b492ad37"
      },
      "source": [
        "# 3. Design the Deep Neural Network"
      ],
      "id": "0f47733c-83bc-465c-b118-b198b492ad37"
    },
    {
      "cell_type": "code",
      "execution_count": null,
      "metadata": {
        "id": "d8e9a497-191b-4842-afbd-26f5e13c43ba"
      },
      "outputs": [],
      "source": [
        "from tensorflow.keras.models import Sequential\n",
        "from tensorflow.keras.layers import Conv3D, LSTM, Dense, Dropout, Bidirectional, MaxPool3D, Activation, Reshape, SpatialDropout3D, BatchNormalization, TimeDistributed, Flatten\n",
        "from tensorflow.keras.optimizers import Adam\n",
        "from tensorflow.keras.callbacks import ModelCheckpoint, LearningRateScheduler"
      ],
      "id": "d8e9a497-191b-4842-afbd-26f5e13c43ba"
    },
    {
      "cell_type": "code",
      "execution_count": null,
      "metadata": {
        "id": "3f753ed2-70b9-4236-8c1c-08ca065dc8bf",
        "colab": {
          "base_uri": "https://localhost:8080/"
        },
        "outputId": "6a25ee46-b9c9-4009-fb61-c30b3a5a3aff"
      },
      "outputs": [
        {
          "output_type": "execute_result",
          "data": {
            "text/plain": [
              "(75, 46, 140, 1)"
            ]
          },
          "metadata": {},
          "execution_count": 42
        }
      ],
      "source": [
        "data.as_numpy_iterator().next()[0][0].shape"
      ],
      "id": "3f753ed2-70b9-4236-8c1c-08ca065dc8bf"
    },
    {
      "cell_type": "code",
      "execution_count": null,
      "metadata": {
        "id": "f9171056-a352-491a-9ed9-92b28ced268e"
      },
      "outputs": [],
      "source": [
        "model = Sequential()\n",
        "model.add(Conv3D(128, 3, input_shape=(75,46,140,1), padding='same'))\n",
        "model.add(Activation('relu'))\n",
        "model.add(MaxPool3D((1,2,2)))\n",
        "\n",
        "model.add(Conv3D(256, 3, padding='same'))\n",
        "model.add(Activation('relu'))\n",
        "model.add(MaxPool3D((1,2,2)))\n",
        "\n",
        "model.add(Conv3D(75, 3, padding='same'))\n",
        "model.add(Activation('relu'))\n",
        "model.add(MaxPool3D((1,2,2)))\n",
        "\n",
        "model.add(TimeDistributed(Flatten()))\n",
        "\n",
        "model.add(Bidirectional(LSTM(128, kernel_initializer='Orthogonal', return_sequences=True)))\n",
        "model.add(Dropout(.5))\n",
        "\n",
        "model.add(Bidirectional(LSTM(128, kernel_initializer='Orthogonal', return_sequences=True)))\n",
        "model.add(Dropout(.5))\n",
        "\n",
        "model.add(Dense(char_to_num.vocabulary_size()+1, kernel_initializer='he_normal', activation='softmax'))"
      ],
      "id": "f9171056-a352-491a-9ed9-92b28ced268e"
    },
    {
      "cell_type": "code",
      "execution_count": null,
      "metadata": {
        "collapsed": true,
        "id": "78851825-2bcd-42a9-b7f2-28bb5a6bf43a"
      },
      "outputs": [],
      "source": [
        "model.summary()"
      ],
      "id": "78851825-2bcd-42a9-b7f2-28bb5a6bf43a"
    },
    {
      "cell_type": "code",
      "execution_count": null,
      "metadata": {
        "id": "f4b4798c-a65a-4c47-9e2a-3b09dc98d320",
        "colab": {
          "base_uri": "https://localhost:8080/"
        },
        "outputId": "3a4990c8-cd54-4ef1-c138-6dd10e42bce2"
      },
      "outputs": [
        {
          "output_type": "execute_result",
          "data": {
            "text/plain": [
              "6375"
            ]
          },
          "metadata": {},
          "execution_count": 45
        }
      ],
      "source": [
        "5*17*75"
      ],
      "id": "f4b4798c-a65a-4c47-9e2a-3b09dc98d320"
    },
    {
      "cell_type": "code",
      "execution_count": null,
      "metadata": {
        "id": "e5c2eae0-c359-41a4-97a0-75c44dccb7d1",
        "colab": {
          "base_uri": "https://localhost:8080/"
        },
        "outputId": "812a019b-6c7b-46b1-8782-ae9c72f086ef"
      },
      "outputs": [
        {
          "output_type": "stream",
          "name": "stdout",
          "text": [
            "1/1 [==============================] - 14s 14s/step\n"
          ]
        }
      ],
      "source": [
        "yhat = model.predict(val[0])"
      ],
      "id": "e5c2eae0-c359-41a4-97a0-75c44dccb7d1"
    },
    {
      "cell_type": "code",
      "execution_count": null,
      "metadata": {
        "id": "ffdc7319-0d69-4f7e-a6d4-ce72deb81c0b",
        "colab": {
          "base_uri": "https://localhost:8080/"
        },
        "outputId": "b5198962-0bab-438a-ccde-91c9fc9b8a07"
      },
      "outputs": [
        {
          "output_type": "execute_result",
          "data": {
            "text/plain": [
              "<tf.Tensor: shape=(), dtype=string, numpy=b'vvvvvvvvvvvvvvvvvvvvddddddddddddddddddddddddddddddddddddddddddddddddddddddd'>"
            ]
          },
          "metadata": {},
          "execution_count": 47
        }
      ],
      "source": [
        "tf.strings.reduce_join([num_to_char(x) for x in tf.argmax(yhat[0],axis=1)])"
      ],
      "id": "ffdc7319-0d69-4f7e-a6d4-ce72deb81c0b"
    },
    {
      "cell_type": "code",
      "execution_count": null,
      "metadata": {
        "id": "6ed47531-8317-4255-9a12-b757642258e6",
        "colab": {
          "base_uri": "https://localhost:8080/"
        },
        "outputId": "edcaf4d5-eef8-40c5-fac3-cda695fe232a"
      },
      "outputs": [
        {
          "output_type": "execute_result",
          "data": {
            "text/plain": [
              "<tf.Tensor: shape=(), dtype=string, numpy=b'vvvvvvvvvvvvvvvvvvvvddddddddddddddddddddddddddddddddddddddddddddddddddddddd'>"
            ]
          },
          "metadata": {},
          "execution_count": 48
        }
      ],
      "source": [
        "tf.strings.reduce_join([num_to_char(tf.argmax(x)) for x in yhat[0]])"
      ],
      "id": "6ed47531-8317-4255-9a12-b757642258e6"
    },
    {
      "cell_type": "code",
      "execution_count": null,
      "metadata": {
        "id": "7c37b9b9-5298-4038-9c33-5031d1b457f0",
        "colab": {
          "base_uri": "https://localhost:8080/"
        },
        "outputId": "c2758216-a495-494a-a681-a3419c70dbb4"
      },
      "outputs": [
        {
          "output_type": "execute_result",
          "data": {
            "text/plain": [
              "(None, 75, 46, 140, 1)"
            ]
          },
          "metadata": {},
          "execution_count": 49
        }
      ],
      "source": [
        "model.input_shape"
      ],
      "id": "7c37b9b9-5298-4038-9c33-5031d1b457f0"
    },
    {
      "cell_type": "code",
      "execution_count": null,
      "metadata": {
        "id": "98b316a4-5322-4782-8e36-4b3c1a696d85",
        "colab": {
          "base_uri": "https://localhost:8080/"
        },
        "outputId": "d713b77d-e9f7-4eab-b6c8-c95ae50b198a"
      },
      "outputs": [
        {
          "output_type": "execute_result",
          "data": {
            "text/plain": [
              "(None, 75, 41)"
            ]
          },
          "metadata": {},
          "execution_count": 50
        }
      ],
      "source": [
        "model.output_shape"
      ],
      "id": "98b316a4-5322-4782-8e36-4b3c1a696d85"
    },
    {
      "cell_type": "markdown",
      "metadata": {
        "id": "2ec02176-5c26-46c3-aff7-8352e6563c7d"
      },
      "source": [
        "# 4. Setup Training Options and Train"
      ],
      "id": "2ec02176-5c26-46c3-aff7-8352e6563c7d"
    },
    {
      "cell_type": "code",
      "execution_count": null,
      "metadata": {
        "id": "ab015fd0-7fb4-4d5d-9fa2-30a05dbd515a"
      },
      "outputs": [],
      "source": [
        "def scheduler(epoch, lr):\n",
        "    if epoch < 30:\n",
        "        return lr\n",
        "    else:\n",
        "        return lr * tf.math.exp(-0.1)"
      ],
      "id": "ab015fd0-7fb4-4d5d-9fa2-30a05dbd515a"
    },
    {
      "cell_type": "code",
      "execution_count": null,
      "metadata": {
        "id": "c564d5c9-db54-4e88-b311-9aeab7fb3e69"
      },
      "outputs": [],
      "source": [
        "def CTCLoss(y_true, y_pred):\n",
        "    batch_len = tf.cast(tf.shape(y_true)[0], dtype=\"int64\")\n",
        "    input_length = tf.cast(tf.shape(y_pred)[1], dtype=\"int64\")\n",
        "    label_length = tf.cast(tf.shape(y_true)[1], dtype=\"int64\")\n",
        "\n",
        "    input_length = input_length * tf.ones(shape=(batch_len, 1), dtype=\"int64\")\n",
        "    label_length = label_length * tf.ones(shape=(batch_len, 1), dtype=\"int64\")\n",
        "\n",
        "    loss = tf.keras.backend.ctc_batch_cost(y_true, y_pred, input_length, label_length)\n",
        "    return loss"
      ],
      "id": "c564d5c9-db54-4e88-b311-9aeab7fb3e69"
    },
    {
      "cell_type": "code",
      "execution_count": null,
      "metadata": {
        "id": "a26dc3fc-a19c-4378-bd8c-e2b597a1d15c"
      },
      "outputs": [],
      "source": [
        "class ProduceExample(tf.keras.callbacks.Callback):\n",
        "    def __init__(self, dataset) -> None:\n",
        "        self.dataset = dataset.as_numpy_iterator()\n",
        "\n",
        "    def on_epoch_end(self, epoch, logs=None) -> None:\n",
        "        data = self.dataset.next()\n",
        "        yhat = self.model.predict(data[0])\n",
        "        decoded = tf.keras.backend.ctc_decode(yhat, [75,75], greedy=False)[0][0].numpy()\n",
        "        for x in range(len(yhat)):\n",
        "            print('Original:', tf.strings.reduce_join(num_to_char(data[1][x])).numpy().decode('utf-8'))\n",
        "            print('Prediction:', tf.strings.reduce_join(num_to_char(decoded[x])).numpy().decode('utf-8'))\n",
        "            print('~'*100)"
      ],
      "id": "a26dc3fc-a19c-4378-bd8c-e2b597a1d15c"
    },
    {
      "cell_type": "code",
      "execution_count": null,
      "metadata": {
        "id": "04be90d8-2482-46f9-b513-d5f4f8001c7e"
      },
      "outputs": [],
      "source": [
        "from tensorflow.keras.optimizers import legacy\n",
        "\n",
        "optimizer = legacy.Adam(learning_rate=0.001)  # Replace legacy.Adam with the appropriate legacy optimizer you used during training\n",
        "\n",
        "model.compile(optimizer=optimizer, loss='categorical_crossentropy', metrics=['accuracy'])\n",
        "\n",
        "# Rest of your code for model definition and training\n"
      ],
      "id": "04be90d8-2482-46f9-b513-d5f4f8001c7e"
    },
    {
      "cell_type": "code",
      "execution_count": null,
      "metadata": {
        "id": "eab49367-3f1e-4464-ae76-dbd07549d97e"
      },
      "outputs": [],
      "source": [
        "checkpoint_callback = ModelCheckpoint(os.path.join('models','checkpoint'), monitor='loss', save_weights_only=True)"
      ],
      "id": "eab49367-3f1e-4464-ae76-dbd07549d97e"
    },
    {
      "cell_type": "code",
      "execution_count": null,
      "metadata": {
        "id": "e085a632-d464-46ef-8777-959cad4adb2c"
      },
      "outputs": [],
      "source": [
        "schedule_callback = LearningRateScheduler(scheduler)"
      ],
      "id": "e085a632-d464-46ef-8777-959cad4adb2c"
    },
    {
      "cell_type": "code",
      "execution_count": null,
      "metadata": {
        "id": "48eca991-90ab-4592-8a79-b50e9ca015b6"
      },
      "outputs": [],
      "source": [
        "example_callback = ProduceExample(test)"
      ],
      "id": "48eca991-90ab-4592-8a79-b50e9ca015b6"
    },
    {
      "cell_type": "code",
      "execution_count": null,
      "metadata": {
        "id": "8ffba483-aa61-4bbe-a15f-a73e1ddf097c"
      },
      "outputs": [],
      "source": [
        "model.fit(train, validation_data=test, epochs=100, callbacks=[checkpoint_callback, schedule_callback, example_callback])"
      ],
      "id": "8ffba483-aa61-4bbe-a15f-a73e1ddf097c"
    },
    {
      "cell_type": "markdown",
      "metadata": {
        "id": "fa8ee94b-89f7-4733-8a0c-a86f86ff590a"
      },
      "source": [
        "# 5. Make a Prediction"
      ],
      "id": "fa8ee94b-89f7-4733-8a0c-a86f86ff590a"
    },
    {
      "cell_type": "code",
      "execution_count": null,
      "metadata": {
        "id": "01fa7204-ce0e-49a8-8dbd-14fe5dfead40",
        "colab": {
          "base_uri": "https://localhost:8080/"
        },
        "outputId": "caedeac8-11d4-4bc6-fdc7-924fc2f6cc71"
      },
      "outputs": [
        {
          "output_type": "stream",
          "name": "stderr",
          "text": [
            "Downloading...\n",
            "From: https://drive.google.com/uc?id=1vWscXs4Vt0a_1IH1-ct2TCgXAZT-N3_Y\n",
            "To: /content/checkpoints.zip\n",
            "100%|██████████| 94.5M/94.5M [00:00<00:00, 224MB/s]\n"
          ]
        },
        {
          "output_type": "execute_result",
          "data": {
            "text/plain": [
              "['models/checkpoint.index',\n",
              " 'models/__MACOSX/._checkpoint.index',\n",
              " 'models/checkpoint.data-00000-of-00001',\n",
              " 'models/__MACOSX/._checkpoint.data-00000-of-00001',\n",
              " 'models/checkpoint',\n",
              " 'models/__MACOSX/._checkpoint']"
            ]
          },
          "metadata": {},
          "execution_count": 65
        }
      ],
      "source": [
        "url = 'https://drive.google.com/uc?id=1vWscXs4Vt0a_1IH1-ct2TCgXAZT-N3_Y'\n",
        "output = 'checkpoints.zip'\n",
        "gdown.download(url, output, quiet=False)\n",
        "gdown.extractall('checkpoints.zip', 'models')"
      ],
      "id": "01fa7204-ce0e-49a8-8dbd-14fe5dfead40"
    },
    {
      "cell_type": "code",
      "execution_count": null,
      "metadata": {
        "id": "247f664d-3c87-4e96-946e-930dad0e1c2c",
        "colab": {
          "base_uri": "https://localhost:8080/"
        },
        "outputId": "f186ae18-77b9-4021-bead-0e0edde7fb80"
      },
      "outputs": [
        {
          "output_type": "execute_result",
          "data": {
            "text/plain": [
              "<tensorflow.python.checkpoint.checkpoint.CheckpointLoadStatus at 0x7c2b914529b0>"
            ]
          },
          "metadata": {},
          "execution_count": 66
        }
      ],
      "source": [
        "model.load_weights('models/checkpoint')"
      ],
      "id": "247f664d-3c87-4e96-946e-930dad0e1c2c"
    },
    {
      "cell_type": "code",
      "execution_count": null,
      "metadata": {
        "id": "7f8d689f-b7bb-443c-9b88-e40c1d800828"
      },
      "outputs": [],
      "source": [
        "test_data = test.as_numpy_iterator()"
      ],
      "id": "7f8d689f-b7bb-443c-9b88-e40c1d800828"
    },
    {
      "cell_type": "code",
      "execution_count": null,
      "metadata": {
        "id": "38546dc2-bee9-4837-864b-8a884df40ad7"
      },
      "outputs": [],
      "source": [
        "sample = test_data.next()"
      ],
      "id": "38546dc2-bee9-4837-864b-8a884df40ad7"
    },
    {
      "cell_type": "code",
      "execution_count": null,
      "metadata": {
        "id": "a43621f0-229d-4c0d-9554-9c3a3da9c61a",
        "colab": {
          "base_uri": "https://localhost:8080/"
        },
        "outputId": "2f9ca21b-d64a-40d6-f70b-43df602ce276"
      },
      "outputs": [
        {
          "output_type": "stream",
          "name": "stdout",
          "text": [
            "1/1 [==============================] - 14s 14s/step\n"
          ]
        }
      ],
      "source": [
        "yhat = model.predict(sample[0])"
      ],
      "id": "a43621f0-229d-4c0d-9554-9c3a3da9c61a"
    },
    {
      "cell_type": "code",
      "execution_count": null,
      "metadata": {
        "id": "ea462999-f87e-4a7e-a057-5be7b6d8f7d5",
        "colab": {
          "base_uri": "https://localhost:8080/"
        },
        "outputId": "167ebb50-1dd8-48bf-81af-8ef97c87b27e"
      },
      "outputs": [
        {
          "output_type": "stream",
          "name": "stdout",
          "text": [
            "~~~~~~~~~~~~~~~~~~~~~~~~~~~~~~~~~~~~~~~~~~~~~~~~~~~~~~~~~~~~~~~~~~~~~~~~~~~~~~~~~~~~~~~~~~~~~~~~~~~~ REAL TEXT\n"
          ]
        },
        {
          "output_type": "execute_result",
          "data": {
            "text/plain": [
              "[<tf.Tensor: shape=(), dtype=string, numpy=b'place white by k three again'>,\n",
              " <tf.Tensor: shape=(), dtype=string, numpy=b'lay white by l seven soon'>]"
            ]
          },
          "metadata": {},
          "execution_count": 70
        }
      ],
      "source": [
        "print('~'*100, 'REAL TEXT')\n",
        "[tf.strings.reduce_join([num_to_char(word) for word in sentence]) for sentence in sample[1]]"
      ],
      "id": "ea462999-f87e-4a7e-a057-5be7b6d8f7d5"
    },
    {
      "cell_type": "code",
      "execution_count": null,
      "metadata": {
        "id": "82bd4c10-dd6e-411e-834b-2a3b43fd12c5"
      },
      "outputs": [],
      "source": [
        "decoded = tf.keras.backend.ctc_decode(yhat, input_length=[75,75], greedy=True)[0][0].numpy()"
      ],
      "id": "82bd4c10-dd6e-411e-834b-2a3b43fd12c5"
    },
    {
      "cell_type": "code",
      "execution_count": null,
      "metadata": {
        "id": "5d68ac46-c90b-4eab-a709-f19aee569ff5",
        "colab": {
          "base_uri": "https://localhost:8080/"
        },
        "outputId": "f5b8585e-4a6b-43a3-9a15-9e21d6e59e98"
      },
      "outputs": [
        {
          "output_type": "stream",
          "name": "stdout",
          "text": [
            "~~~~~~~~~~~~~~~~~~~~~~~~~~~~~~~~~~~~~~~~~~~~~~~~~~~~~~~~~~~~~~~~~~~~~~~~~~~~~~~~~~~~~~~~~~~~~~~~~~~~ PREDICTIONS\n"
          ]
        },
        {
          "output_type": "execute_result",
          "data": {
            "text/plain": [
              "[<tf.Tensor: shape=(), dtype=string, numpy=b'place white by k three again'>,\n",
              " <tf.Tensor: shape=(), dtype=string, numpy=b'lay white by l seven soon'>]"
            ]
          },
          "metadata": {},
          "execution_count": 72
        }
      ],
      "source": [
        "print('~'*100, 'PREDICTIONS')\n",
        "[tf.strings.reduce_join([num_to_char(word) for word in sentence]) for sentence in decoded]"
      ],
      "id": "5d68ac46-c90b-4eab-a709-f19aee569ff5"
    },
    {
      "cell_type": "markdown",
      "metadata": {
        "id": "64622f98-e99b-4fed-a2cc-f0da82eb5431"
      },
      "source": [
        "# Test on a Video"
      ],
      "id": "64622f98-e99b-4fed-a2cc-f0da82eb5431"
    },
    {
      "cell_type": "code",
      "execution_count": null,
      "metadata": {
        "id": "a8b0c4d0-2031-4331-b91d-d87b1ae6f6e2"
      },
      "outputs": [],
      "source": [
        "sample = load_data(tf.convert_to_tensor('./data/s1/bras9a.mpg'))"
      ],
      "id": "a8b0c4d0-2031-4331-b91d-d87b1ae6f6e2"
    },
    {
      "cell_type": "code",
      "execution_count": null,
      "metadata": {
        "id": "0cca60e4-47a9-4683-8a75-48f4684f723d",
        "colab": {
          "base_uri": "https://localhost:8080/"
        },
        "outputId": "ccbc5688-3ed9-4ca4-b915-c06fe380c5d8"
      },
      "outputs": [
        {
          "output_type": "stream",
          "name": "stdout",
          "text": [
            "~~~~~~~~~~~~~~~~~~~~~~~~~~~~~~~~~~~~~~~~~~~~~~~~~~~~~~~~~~~~~~~~~~~~~~~~~~~~~~~~~~~~~~~~~~~~~~~~~~~~ REAL TEXT\n"
          ]
        },
        {
          "output_type": "execute_result",
          "data": {
            "text/plain": [
              "[<tf.Tensor: shape=(), dtype=string, numpy=b'bin red at s nine again'>]"
            ]
          },
          "metadata": {},
          "execution_count": 75
        }
      ],
      "source": [
        "print('~'*100, 'REAL TEXT')\n",
        "[tf.strings.reduce_join([num_to_char(word) for word in sentence]) for sentence in [sample[1]]]"
      ],
      "id": "0cca60e4-47a9-4683-8a75-48f4684f723d"
    },
    {
      "cell_type": "code",
      "execution_count": null,
      "metadata": {
        "id": "8cc5037c-1e32-435c-b0cc-01e1fb3b863c",
        "colab": {
          "base_uri": "https://localhost:8080/"
        },
        "outputId": "f38e7d72-39bc-4a8b-e665-09bcc603414c"
      },
      "outputs": [
        {
          "output_type": "stream",
          "name": "stdout",
          "text": [
            "1/1 [==============================] - 6s 6s/step\n"
          ]
        }
      ],
      "source": [
        "yhat = model.predict(tf.expand_dims(sample[0], axis=0))"
      ],
      "id": "8cc5037c-1e32-435c-b0cc-01e1fb3b863c"
    },
    {
      "cell_type": "code",
      "execution_count": null,
      "metadata": {
        "id": "22c4f77d-715d-409f-bc5e-3ebe48704e8f"
      },
      "outputs": [],
      "source": [
        "decoded = tf.keras.backend.ctc_decode(yhat, input_length=[75], greedy=True)[0][0].numpy()"
      ],
      "id": "22c4f77d-715d-409f-bc5e-3ebe48704e8f"
    },
    {
      "cell_type": "code",
      "execution_count": null,
      "metadata": {
        "id": "e4d12ecc-b634-499e-a4bc-db9f010835fb",
        "colab": {
          "base_uri": "https://localhost:8080/"
        },
        "outputId": "1f907c1c-6ddc-4c0a-bdf5-32e8cb6335b1"
      },
      "outputs": [
        {
          "output_type": "stream",
          "name": "stdout",
          "text": [
            "~~~~~~~~~~~~~~~~~~~~~~~~~~~~~~~~~~~~~~~~~~~~~~~~~~~~~~~~~~~~~~~~~~~~~~~~~~~~~~~~~~~~~~~~~~~~~~~~~~~~ PREDICTIONS\n"
          ]
        },
        {
          "output_type": "execute_result",
          "data": {
            "text/plain": [
              "[<tf.Tensor: shape=(), dtype=string, numpy=b'bin red at s nine again'>]"
            ]
          },
          "metadata": {},
          "execution_count": 78
        }
      ],
      "source": [
        "print('~'*100, 'PREDICTIONS')\n",
        "[tf.strings.reduce_join([num_to_char(word) for word in sentence]) for sentence in decoded]"
      ],
      "id": "e4d12ecc-b634-499e-a4bc-db9f010835fb"
    },
    {
      "cell_type": "code",
      "execution_count": null,
      "metadata": {
        "id": "551dfea2-de6b-4400-b71a-a17631529e3f"
      },
      "outputs": [],
      "source": [],
      "id": "551dfea2-de6b-4400-b71a-a17631529e3f"
    },
    {
      "cell_type": "code",
      "execution_count": null,
      "metadata": {
        "id": "fa95863d-3832-47bf-8a77-ebaa38054ace"
      },
      "outputs": [],
      "source": [],
      "id": "fa95863d-3832-47bf-8a77-ebaa38054ace"
    }
  ],
  "metadata": {
    "colab": {
      "provenance": []
    },
    "kernelspec": {
      "display_name": "Python 3 (ipykernel)",
      "language": "python",
      "name": "python3"
    },
    "language_info": {
      "codemirror_mode": {
        "name": "ipython",
        "version": 3
      },
      "file_extension": ".py",
      "mimetype": "text/x-python",
      "name": "python",
      "nbconvert_exporter": "python",
      "pygments_lexer": "ipython3",
      "version": "3.8.10"
    }
  },
  "nbformat": 4,
  "nbformat_minor": 5
}